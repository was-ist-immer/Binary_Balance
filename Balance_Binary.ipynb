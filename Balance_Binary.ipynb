{
 "cells": [
  {
   "cell_type": "markdown",
   "id": "valued-saskatchewan",
   "metadata": {
    "extensions": {
     "jupyter_dashboards": {
      "activeView": "grid_default",
      "views": {
       "grid_default": {
        "col": 0,
        "height": 2,
        "hidden": false,
        "row": 0,
        "width": 12
       }
      }
     }
    },
    "presto": {
     "id": "e13f5e37-bda7-4588-b06b-83f75f0bb857"
    },
    "tags": []
   },
   "source": [
    "## Binäre Bilanz "
   ]
  },
  {
   "cell_type": "markdown",
   "id": "genuine-country",
   "metadata": {
    "extensions": {
     "jupyter_dashboards": {
      "activeView": "grid_default",
      "views": {
       "grid_default": {
        "col": 0,
        "height": 11,
        "hidden": false,
        "row": 2,
        "width": 6
       }
      }
     }
    },
    "tags": []
   },
   "source": [
    "### Kennzeichen einer binären Bilanz\n",
    "\n",
    "* Nur __extensive__ Größen lassen sich bilanzieren\n",
    "    * Beispiele: \n",
    "        * Masse m, Stoffmenge n, Teilchenzahl N \n",
    "        * Volumen V \n",
    "        * innere Energie U\n",
    "        * freie Energie F, freie Enthalpie G, Entropie S \n",
    "        * Enthalpie H \n",
    "        * elektrische Ladung Q\n",
    "\n",
    "\n",
    "* eine binäre Bilanz summiert __zwei__ (binär) Größen zu einer Dritten\n",
    "    * Beispiele:\n",
    "        * $ m_{AB} = m_A + m_B $\n",
    "        * $ n_{AB} = n_A + n_B $\n",
    "        * $H_{AB} = H_A + H_B $\n",
    "\n",
    "\n",
    "* Gehaltsangaben erweitern die Ausdrucksweise\n",
    "    * Beispiele\n",
    "        * Verhältnisse \\ Beladungen  z.B.  $\\quad\\zeta_{A}=\\tfrac{m_A}{m_B}$\n",
    "        * Anteile \\ Gehalt z.B. $\\quad\\xi_{A}=\\tfrac{m_A}{m_A + m_B}$\n",
    "        * Konzentration (bezug auf Volumen)   z.B. $\\quad\\beta_{A}=\\tfrac{m_A}{V_A + V_B}$"
   ]
  },
  {
   "cell_type": "markdown",
   "id": "76ca1106-5032-4a20-abaf-b2b439dbffe8",
   "metadata": {
    "extensions": {
     "jupyter_dashboards": {
      "activeView": "grid_default",
      "views": {
       "grid_default": {
        "col": 3,
        "height": 4,
        "hidden": false,
        "row": 13,
        "width": 6
       }
      }
     }
    },
    "tags": []
   },
   "source": [
    "### Bedingungen zur Berechnung einer binären Bilanz\n",
    "\n",
    "* Zwei Größen müssen vorgeben werden\n",
    "* von den zwei Größen muss eine extensiv sein \n",
    "* Volumenberechnung kann nur bei __gleichen Druck und Temperatur__ erfolgen\n"
   ]
  },
  {
   "cell_type": "markdown",
   "id": "cc5ef378-a52e-4ced-9050-a82292513eb0",
   "metadata": {
    "extensions": {
     "jupyter_dashboards": {
      "activeView": "grid_default",
      "views": {
       "grid_default": {
        "col": 6,
        "height": 11,
        "hidden": false,
        "row": 2,
        "width": 6
       }
      }
     }
    }
   },
   "source": [
    "<img src=\"pics/binary_balance_1.jpg\" alt=\"My picture\"\n",
    "\ttitle=\"A cute kitten\" width=\"400px\" />\n",
    "\n",
    "Dieses Bild zeigt den Bilanzknoten mit den  extensiven und intensiven Größen"
   ]
  },
  {
   "cell_type": "code",
   "execution_count": 1,
   "id": "ab70ee95-ce3c-4c4c-a7bc-2658a1a5d41a",
   "metadata": {
    "extensions": {
     "jupyter_dashboards": {
      "activeView": "grid_default",
      "views": {
       "grid_default": {
        "col": null,
        "height": 2,
        "hidden": true,
        "row": null,
        "width": 2
       }
      }
     }
    }
   },
   "outputs": [],
   "source": [
    "import nowo1_base as no_ba\n",
    "import nowo1_sim_binary as no_bi\n",
    "import nowo1_gui_base as no_gui\n",
    "import nowo1_log_base as no_log"
   ]
  },
  {
   "cell_type": "code",
   "execution_count": 2,
   "id": "eec838fd-a5a9-49c8-a873-07c0e3653622",
   "metadata": {
    "extensions": {
     "jupyter_dashboards": {
      "activeView": "grid_default",
      "views": {
       "grid_default": {
        "col": null,
        "height": 2,
        "hidden": true,
        "row": null,
        "width": 2
       }
      }
     }
    }
   },
   "outputs": [],
   "source": [
    "bilanz_1 = no_bi.binary_node('bilanz_1') # Umgebungs\n",
    "step = no_ba.step_single('step')\n",
    "gui_data = no_gui.gui_ipysheet('gui_data')\n",
    "log = no_log.log_sheet('log')"
   ]
  },
  {
   "cell_type": "code",
   "execution_count": 3,
   "id": "5e7dc37c-8fe1-4569-a233-e3e45f450ae2",
   "metadata": {
    "extensions": {
     "jupyter_dashboards": {
      "activeView": "grid_default",
      "views": {
       "grid_default": {
        "col": null,
        "height": 2,
        "hidden": true,
        "row": null,
        "width": 2
       }
      }
     }
    }
   },
   "outputs": [],
   "source": [
    "step.Init(work_objs=[bilanz_1.Calc_A_B])\n",
    "log.Init(Values=[bilanz_1.log_all], Gui_For_Data = gui_data)"
   ]
  },
  {
   "cell_type": "code",
   "execution_count": 4,
   "id": "9a853d13-b21f-475a-8262-b9616bad6a60",
   "metadata": {
    "extensions": {
     "jupyter_dashboards": {
      "activeView": "grid_default",
      "views": {
       "grid_default": {
        "col": 6,
        "height": 5,
        "hidden": false,
        "row": 17,
        "width": 6
       }
      }
     }
    },
    "tags": []
   },
   "outputs": [
    {
     "data": {
      "application/vnd.jupyter.widget-view+json": {
       "model_id": "056f50bccc764cb9abda14b18b6f1d74",
       "version_major": 2,
       "version_minor": 0
      },
      "text/plain": [
       "VBox(children=(Sheet(cells=(Cell(column_end=0, column_start=0, row_end=7, row_start=0, squeeze_row=False, type…"
      ]
     },
     "metadata": {},
     "output_type": "display_data"
    }
   ],
   "source": [
    "gui_data.Show_GUI()"
   ]
  },
  {
   "cell_type": "code",
   "execution_count": 5,
   "id": "155a052c-b1b6-4098-8614-19388211296a",
   "metadata": {
    "extensions": {
     "jupyter_dashboards": {
      "activeView": "grid_default",
      "views": {
       "grid_default": {
        "col": 0,
        "height": 4,
        "hidden": false,
        "row": 17,
        "width": 4
       }
      }
     }
    }
   },
   "outputs": [
    {
     "data": {
      "application/vnd.jupyter.widget-view+json": {
       "model_id": "df4f302df2794b3592111ef8250b63d6",
       "version_major": 2,
       "version_minor": 0
      },
      "text/plain": [
       "VBox(children=(VBox(children=(Label(value='extensive Größe:'), HBox(children=(Dropdown(layout=Layout(width='10…"
      ]
     },
     "metadata": {},
     "output_type": "display_data"
    }
   ],
   "source": [
    "bilanz_1.Show_GUI()"
   ]
  },
  {
   "cell_type": "code",
   "execution_count": 6,
   "id": "aa1fe3ad-55bb-491d-a677-ea20354ba5c1",
   "metadata": {
    "extensions": {
     "jupyter_dashboards": {
      "activeView": "grid_default",
      "views": {
       "grid_default": {
        "col": 4,
        "height": 2,
        "hidden": false,
        "row": 18,
        "width": 2
       }
      }
     }
    }
   },
   "outputs": [
    {
     "data": {
      "application/vnd.jupyter.widget-view+json": {
       "model_id": "387ddd748f7c439eb5f9853ae7c70353",
       "version_major": 2,
       "version_minor": 0
      },
      "text/plain": [
       "VBox(children=(Button(description='Calc', style=ButtonStyle()),))"
      ]
     },
     "metadata": {},
     "output_type": "display_data"
    }
   ],
   "source": [
    "step.Show_GUI()"
   ]
  }
 ],
 "metadata": {
  "extensions": {
   "jupyter_dashboards": {
    "activeView": "grid_default",
    "version": 1,
    "views": {
     "grid_default": {
      "cellMargin": 2,
      "defaultCellHeight": 50,
      "maxColumns": 12,
      "name": "grid",
      "type": "grid"
     }
    }
   }
  },
  "kernelspec": {
   "display_name": "Python 3 (ipykernel)",
   "language": "python",
   "name": "python3"
  },
  "language_info": {
   "codemirror_mode": {
    "name": "ipython",
    "version": 3
   },
   "file_extension": ".py",
   "mimetype": "text/x-python",
   "name": "python",
   "nbconvert_exporter": "python",
   "pygments_lexer": "ipython3",
   "version": "3.9.7"
  },
  "presto": {
   "id": "15654236-4ba8-4933-8bde-9e7e68b7138c"
  }
 },
 "nbformat": 4,
 "nbformat_minor": 5
}
