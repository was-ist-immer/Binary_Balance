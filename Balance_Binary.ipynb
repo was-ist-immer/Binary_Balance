{
 "cells": [
  {
   "cell_type": "code",
   "execution_count": 3,
   "id": "28ffafab-45ee-4719-917f-0cb2bacb4915",
   "metadata": {
    "extensions": {
     "jupyter_dashboards": {
      "activeView": "grid_default",
      "views": {
       "grid_default": {
        "col": null,
        "height": 2,
        "hidden": true,
        "row": null,
        "width": 2
       }
      }
     }
    }
   },
   "outputs": [],
   "source": [
    "import markdown \n",
    "import ipywidgets as widgets"
   ]
  },
  {
   "cell_type": "markdown",
   "id": "valued-saskatchewan",
   "metadata": {
    "extensions": {
     "jupyter_dashboards": {
      "activeView": "grid_default",
      "views": {
       "grid_default": {
        "col": 0,
        "height": 2,
        "hidden": false,
        "row": 0,
        "width": 12
       }
      }
     }
    },
    "presto": {
     "id": "e13f5e37-bda7-4588-b06b-83f75f0bb857"
    },
    "tags": []
   },
   "source": [
    "### Binäres Bilanzsystem (Knoten)\n",
    "###### Bilanzknoten besteht aus drei Größen. Zwei (binär) Angaben sind zur vollstädigen Beschreibung notwendig"
   ]
  },
  {
   "cell_type": "code",
   "execution_count": 4,
   "id": "a1eec605-ec6c-4349-9baa-960c7e6030d3",
   "metadata": {
    "extensions": {
     "jupyter_dashboards": {
      "activeView": "grid_default",
      "views": {
       "grid_default": {
        "col": null,
        "height": 2,
        "hidden": true,
        "row": null,
        "width": 2
       }
      }
     }
    },
    "tags": []
   },
   "outputs": [],
   "source": [
    "html_kennzeichen = markdown.markdown(r'''\n",
    "* Nur __extensive__ Größen lassen sich bilanzieren\n",
    "    * Beispiele: \n",
    "        * Masse m, Stoffmenge n, Teilchenzahl N \n",
    "        * Volumen V \n",
    "        * innere Energie U\n",
    "        * freie Energie F, freie Enthalpie G, Entropie S \n",
    "        * Enthalpie H \n",
    "        * elektrische Ladung Q\n",
    "\n",
    "----\n",
    "* eine binäre Bilanz summiert  Größen zu einer dritten Größe oder zu 0\n",
    "    * Beispiele summieren von Größen zu einer dritten Größe:\n",
    "        * $ m_{C} = m_A + m_B $\n",
    "        * $ n_{C} = n_A + n_B $\n",
    "        * $ H_{C} = H_A + H_B $\n",
    "    * Beispiele summieren von Größen zu 0: \n",
    "        * $ 0 = m_A + m_B + m_{C}$\n",
    "        * $ 0 = n_A + n_B + n_{C}$\n",
    "        * $ 0 = H_A + H_B + H_{C}$\n",
    "\n",
    "\n",
    "----\n",
    "* Gehaltsangaben erweitern die Ausdrucksweise\n",
    "    * Beispiele\n",
    "        * Verhältnisse \\ Beladungen  z.B.  $\\quad\\zeta_{A}=\\tfrac{m_A}{m_B}$\n",
    "        * Anteile \\ Gehalt z.B. $\\quad\\xi_{A}=\\tfrac{m_A}{m_A + m_B}$\n",
    "        * Konzentration (bezug auf Volumen)   z.B. $\\quad\\beta_{A}=\\tfrac{m_A}{V_A + V_B}$\n",
    "        ''')\n",
    "\n",
    "#HTML(html) \n",
    "kennzeichen = widgets.HTMLMath(html_kennzeichen)"
   ]
  },
  {
   "cell_type": "raw",
   "id": "0a599e23-cc50-440a-bf4e-5a0e10378f1c",
   "metadata": {},
   "source": [
    "html_test = '''\n",
    "<hr>\n",
    "<p><strong>Knoten_1: Solvat und Solvent -Eintritt-</strong></p>\n",
    "<ul style = \"margin : 0; padding = 0\" >\n",
    "<li  style = \"margin : 0\" >C: Eintritt (Feed) eines Kristallisators, bestehend aus Solvat (Salz) und Solvent (Lösungsmittel). Der Eintritt wird hier als <strong>konstant</strong> angesehen</li>\n",
    "<li  style = \"margin : 0\" >A: Solvat gelöstes und / oder kristallines Solvat. Die Masse ist konstant, aber die Zusammensetzung zwischen kristallines und gelöstes Solvat kann sich ändern. Hängt von einer Temperaturänderung und / oder einer Mengenänderung des Solvents ab (Passieren der Löslichkeitsgrenze)</li>\n",
    "<li>B: Solventmasse reines Lösungsmittel. Wird hier als <strong>konstant</strong> angesehen.</li>\n",
    "</ul>\n",
    "<hr>\n",
    "<p><strong>Knoten_2: Solvat</strong></p>\n",
    "<ul>\n",
    "<li>C: = Knoten_1.A</li>\n",
    "<li>A: Kristallines Solvat. Die Menge kann sich ändern. </li>\n",
    "<li>B: gelöstestes Solvat. Die Menge kann sich ändern.</li>\n",
    "</ul>\n",
    "<hr>\n",
    "<p><strong>Knoten_3: Solvat und Solvent auf der Löslichkeitskurve</strong></p>\n",
    "<ul>\n",
    "<li>C: Solvat- und Solventmasse geättigt (Punkt auf Löslichkeitskurve).</li>\n",
    "<li>A: Solvent nach einer möglichen Massenänderung  </li>\n",
    "<li>B: = Knoten_2.B</li>\n",
    "</ul>\n",
    "<hr>\n",
    "<p><strong>Knoten_4: Solvent -Austritt-</strong></p>\n",
    "<ul>\n",
    "<li>C: = Knoten_1.B</li>\n",
    "<li>A: Veränderte Solventmasse  </li>\n",
    "<li>B: = Abgeführte Solventmasse (Dampf) </li>\n",
    "</ul>\n",
    "<hr>\n",
    "<p><strong>Knoten_5: Solvat und Solvent -Austritt-</strong></p>\n",
    "<ul>\n",
    "<li>C: Solvent und Solvat (gelöstes und kristallines)</li>\n",
    "<li>A: = Knoten_3.C  </li>\n",
    "<li>B: = Knoten_2.A </li>\n",
    "</ul>\n",
    "'''\n",
    "widgets.HTML(html_test)"
   ]
  },
  {
   "cell_type": "code",
   "execution_count": 6,
   "id": "a42bacd1-6a9b-411f-a242-c06f3c899832",
   "metadata": {
    "extensions": {
     "jupyter_dashboards": {
      "activeView": "grid_default",
      "views": {
       "grid_default": {
        "col": null,
        "height": 2,
        "hidden": true,
        "row": null,
        "width": 2
       }
      }
     }
    },
    "tags": []
   },
   "outputs": [],
   "source": [
    "html_bedingungen = markdown.markdown(r'''\n",
    "* Zwei Größen müssen vorgeben werden\n",
    "* von den zwei Größen muss eine extensiv sein \n",
    "* Volumenberechnung kann nur bei __gleichen Druck und Temperatur__ erfolgen\n",
    "''')\n",
    "\n",
    "#HTML(html) \n",
    "bedingungen = widgets.HTMLMath(html_bedingungen)"
   ]
  },
  {
   "cell_type": "code",
   "execution_count": 7,
   "id": "567374f7-84bd-4f61-afcf-39d21b3fa084",
   "metadata": {
    "extensions": {
     "jupyter_dashboards": {
      "activeView": "grid_default",
      "views": {
       "grid_default": {
        "col": null,
        "height": 2,
        "hidden": true,
        "row": null,
        "width": 2
       }
      }
     }
    },
    "tags": []
   },
   "outputs": [],
   "source": [
    "file = open(\"pics/Knotenmodell_Basis_Vers_1.svg\", \"rb\")\n",
    "image_1 = file.read()\n",
    "balance_image = widgets.Image(\n",
    "    value=image_1,\n",
    "    format='svg+xml',\n",
    "    height=300,\n",
    ")\n",
    "\n"
   ]
  },
  {
   "cell_type": "code",
   "execution_count": 8,
   "id": "a5792526-053c-448a-9e57-7dc25bd86a6f",
   "metadata": {},
   "outputs": [],
   "source": [
    "html_nodes_infos = markdown.markdown(r'''\n",
    "#### Knoten_1: Solvat und Solvent -Eintritt-\n",
    "* C: Eintritt (Feed) eines Kristallisators, bestehend aus Solvat (Salz) und Solvent (Lösungsmittel). Der Eintritt wird hier als __konstant__ angesehen\n",
    "* A: Solvat gelöstes und / oder kristallines Solvat. Die Masse ist konstant, aber die Zusammensetzung zwischen kristallines und gelöstes Solvat kann sich ändern. Hängt von einer Temperaturänderung und / oder einer Mengenänderung des Solvents ab (Passieren der Löslichkeitsgrenze)\n",
    "* B: Solventmasse reines Lösungsmittel. Wird hier als __konstant__ angesehen.\n",
    "\n",
    "----\n",
    "\n",
    "''')\n",
    "\n",
    "#HTML(html) \n",
    "html_nodes_infos = widgets.HTMLMath(html_nodes_infos)\n",
    "file = open(\"pics/Knotenmodell_Kristallisation_Vers_2.svg\", \"rb\")\n",
    "\n",
    "image_2 = file.read()\n",
    "crystal_image = widgets.Image(\n",
    "    value=image_2,\n",
    "    format='svg+xml',\n",
    "    height=300,\n",
    "   \n",
    ")\n",
    "imagebox = widgets.HBox([crystal_image, html_nodes_infos])"
   ]
  },
  {
   "cell_type": "code",
   "execution_count": 9,
   "id": "0b6c3312-1d1d-4b6c-8e8c-ea62057b8b3a",
   "metadata": {
    "extensions": {
     "jupyter_dashboards": {
      "activeView": "grid_default",
      "views": {
       "grid_default": {
        "col": 0,
        "height": 3,
        "hidden": false,
        "row": 2,
        "width": 12
       }
      }
     }
    },
    "tags": []
   },
   "outputs": [
    {
     "data": {
      "application/vnd.jupyter.widget-view+json": {
       "model_id": "d38e8827b4f648edb4b80c1a7cb2c2e7",
       "version_major": 2,
       "version_minor": 0
      },
      "text/plain": [
       "Accordion(children=(HTMLMath(value='<ul>\\n<li>Nur <strong>extensive</strong> Größen lassen sich bilanzieren<ul…"
      ]
     },
     "metadata": {},
     "output_type": "display_data"
    }
   ],
   "source": [
    "accordion = widgets.Accordion(children=[kennzeichen, bedingungen, balance_image, imagebox], selected_index=None)\n",
    "accordion.set_title(0, 'Kennzeichen einer binären Bilanz')\n",
    "accordion.set_title(1, 'Bedingungen zur Berechnung einer binären Bilanz')\n",
    "accordion.set_title(2, 'Vollständiges Bild eines binären Bilanzknoten')\n",
    "accordion.set_title(3, 'Binäres Bilanzmodel einer Kristallisation')\n",
    "accordion"
   ]
  },
  {
   "cell_type": "code",
   "execution_count": 10,
   "id": "ab70ee95-ce3c-4c4c-a7bc-2658a1a5d41a",
   "metadata": {
    "extensions": {
     "jupyter_dashboards": {
      "activeView": "grid_default",
      "views": {
       "grid_default": {
        "col": null,
        "height": 2,
        "hidden": true,
        "row": null,
        "width": 2
       }
      }
     }
    },
    "tags": []
   },
   "outputs": [],
   "source": [
    "import nowo1_base as no_ba\n",
    "import nowo1_sim_binary as no_bi\n",
    "import nowo1_gui_base as no_gui\n",
    "import nowo1_log_base as no_log\n"
   ]
  },
  {
   "cell_type": "code",
   "execution_count": 11,
   "id": "eec838fd-a5a9-49c8-a873-07c0e3653622",
   "metadata": {
    "extensions": {
     "jupyter_dashboards": {
      "activeView": "grid_default",
      "views": {
       "grid_default": {
        "col": null,
        "height": 2,
        "hidden": true,
        "row": null,
        "width": 2
       }
      }
     }
    }
   },
   "outputs": [],
   "source": [
    "bilanz_1 = no_bi.binary_node('bilanz_1', init_methode = 'gui') # Umgebungs\n",
    "step = no_ba.step_single('step')\n",
    "gui_data = no_gui.gui_ipysheet('gui_data')\n",
    "log = no_log.log_sheet('log')"
   ]
  },
  {
   "cell_type": "code",
   "execution_count": 12,
   "id": "7209ba84-1e31-4d7e-b205-eb3b822fba13",
   "metadata": {
    "extensions": {
     "jupyter_dashboards": {
      "activeView": "grid_default",
      "views": {
       "grid_default": {
        "col": null,
        "height": 2,
        "hidden": true,
        "row": null,
        "width": 2
       }
      }
     }
    }
   },
   "outputs": [],
   "source": [
    "# stepper for options\n",
    "step.Init(work_objs=[bilanz_1.Calc_C])"
   ]
  },
  {
   "cell_type": "code",
   "execution_count": 13,
   "id": "78564e31-2e23-4fd0-879e-e5fec1cf5c8e",
   "metadata": {
    "extensions": {
     "jupyter_dashboards": {
      "activeView": "grid_default",
      "views": {
       "grid_default": {
        "col": null,
        "height": 2,
        "hidden": true,
        "row": null,
        "width": 2
       }
      }
     }
    }
   },
   "outputs": [],
   "source": [
    "bilanz_1.Option(options = {\n",
    "    'name' : {'alias' : 'Test', 'visible' : True}} )\n",
    "bilanz_1.Gate_A.general.Option(alias_name = 'size')\n",
    "bilanz_1.Gate_A.Option(alias_name = 'A')\n",
    "bilanz_1.Gate_B.general.Option(alias_name = 'size')\n",
    "bilanz_1.Gate_B.Option(alias_name = 'B')\n",
    "bilanz_1.Gate_C.general.Option(alias_name = 'size')\n",
    "bilanz_1.Gate_C.Option(alias_name = 'C')\n",
    "bilanz_1.A_ratio.Option(alias_name = 'Beladung A/B')\n",
    "bilanz_1.B_ratio.Option(alias_name = 'Beladung B/A')\n",
    "bilanz_1.A_portion.Option(alias_name = 'Anteil A/(A+B)')\n",
    "bilanz_1.B_portion.Option(alias_name = 'Anteil B/(A+B)')"
   ]
  },
  {
   "cell_type": "code",
   "execution_count": 14,
   "id": "5bc30890-5c60-4d96-8138-fe9b7c0682d1",
   "metadata": {
    "extensions": {
     "jupyter_dashboards": {
      "activeView": "grid_default",
      "views": {
       "grid_default": {
        "col": null,
        "height": 2,
        "hidden": true,
        "row": null,
        "width": 2
       }
      }
     }
    }
   },
   "outputs": [],
   "source": [
    "#Logger zum Schluss initialisieren\n",
    "log.Init(Values=[bilanz_1.log_all], Gui_For_Data = gui_data)"
   ]
  },
  {
   "cell_type": "code",
   "execution_count": 15,
   "id": "9a853d13-b21f-475a-8262-b9616bad6a60",
   "metadata": {
    "extensions": {
     "jupyter_dashboards": {
      "activeView": "grid_default",
      "views": {
       "grid_default": {
        "col": 0,
        "height": 5,
        "hidden": false,
        "row": 5,
        "width": 12
       }
      }
     }
    },
    "tags": []
   },
   "outputs": [
    {
     "data": {
      "application/vnd.jupyter.widget-view+json": {
       "model_id": "8997f6d647954856a5a9cf3850f5d210",
       "version_major": 2,
       "version_minor": 0
      },
      "text/plain": [
       "VBox(children=(HBox(children=(VBox(children=(VBox(children=(Button(description='Löschen', style=ButtonStyle())…"
      ]
     },
     "metadata": {},
     "output_type": "display_data"
    }
   ],
   "source": [
    "left_box = widgets.VBox([log.Box(), step.Box()])\n",
    "row_1 = widgets.HBox([left_box, gui_data.Box()])\n",
    "widgets.VBox([row_1, bilanz_1.Box()])"
   ]
  },
  {
   "cell_type": "code",
   "execution_count": 19,
   "id": "305dd061-c441-491c-8b92-8a5c54d739ad",
   "metadata": {},
   "outputs": [],
   "source": [
    "html_aufgabe_totesmeer = markdown.markdown(r'''\n",
    "Im Meerwasser des Toten Meer gibt es Mineralien in hochkonzentrierter Form, durchschnittlich ca. <b>28% (Massenbeladung)</b> Salz. \n",
    "Das Salz setzt sich zusammen aus\n",
    "Magnesiumchlorid, Calciumchlorid,  Natriumchlorid, Kaliumchlorid und Spurenelemente, bezogen auf die wasserfreiem Salze. \n",
    "Totes Meer Salz, wird durch die ständige Verdunstung des Wassers, das Wasser hat eine min. Temperatur von 20°C,  in sogenannten Salzgärten gewonnen. \n",
    "Die Salzgärten sind großflächig, künstlich angelegte Sammel Becken, indem das Wasser verdunstet und reines Salz zurück bleibt.\n",
    "\n",
    "## Aufgabe:\n",
    "Wieviel Wasser des toten Meeres, bezogen auf $10.0\\ \\text{kg} \\cdot \\text{s}^{-1}$ Meerwasser, muss man verdampfen, um 20% (Massenanteil) des gelösten Salzes als kristallines Salz zu gewinnen?\n",
    "\n",
    "## Vereinfachung:\n",
    "* Das gesamte Salz wird als $N_aC_l$ angenommen\n",
    "* Die Temperatur bleibt konstant\n",
    "''')\n",
    "aufgabe_totesmeer = widgets.HTMLMath(html_aufgabe_totesmeer)                                 \n",
    "                                 "
   ]
  },
  {
   "cell_type": "code",
   "execution_count": 20,
   "id": "64a1496c-b05d-4517-8bf5-b853ab41a103",
   "metadata": {
    "extensions": {
     "jupyter_dashboards": {
      "activeView": "grid_default",
      "views": {
       "grid_default": {
        "col": 0,
        "height": 3,
        "hidden": false,
        "row": 2,
        "width": 12
       }
      }
     }
    },
    "tags": []
   },
   "outputs": [
    {
     "data": {
      "application/vnd.jupyter.widget-view+json": {
       "model_id": "05c853c0fb834afbba1b94d60cc45745",
       "version_major": 2,
       "version_minor": 0
      },
      "text/plain": [
       "Accordion(children=(HTMLMath(value='<p>Im Meerwasser des Toten Meer gibt es Mineralien in hochkonzentrierter F…"
      ]
     },
     "metadata": {},
     "output_type": "display_data"
    }
   ],
   "source": [
    "accordion_aufgaben = widgets.Accordion(children=[aufgabe_totesmeer], selected_index=None)\n",
    "accordion_aufgaben.set_title(0, 'Verdunsten von Wasser -Totes Meer-')\n",
    "\n",
    "accordion_aufgaben"
   ]
  },
  {
   "cell_type": "code",
   "execution_count": null,
   "id": "837544d5-c2fc-4a20-9077-37efd9c31dfc",
   "metadata": {},
   "outputs": [],
   "source": []
  }
 ],
 "metadata": {
  "extensions": {
   "jupyter_dashboards": {
    "activeView": "grid_default",
    "version": 1,
    "views": {
     "grid_default": {
      "cellMargin": 2,
      "defaultCellHeight": 50,
      "maxColumns": 12,
      "name": "grid",
      "type": "grid"
     }
    }
   }
  },
  "kernelspec": {
   "display_name": "Python 3 (ipykernel)",
   "language": "python",
   "name": "python3"
  },
  "language_info": {
   "codemirror_mode": {
    "name": "ipython",
    "version": 3
   },
   "file_extension": ".py",
   "mimetype": "text/x-python",
   "name": "python",
   "nbconvert_exporter": "python",
   "pygments_lexer": "ipython3",
   "version": "3.9.7"
  },
  "presto": {
   "id": "15654236-4ba8-4933-8bde-9e7e68b7138c"
  }
 },
 "nbformat": 4,
 "nbformat_minor": 5
}
