{
 "cells": [
  {
   "cell_type": "code",
   "execution_count": 1,
   "id": "28ffafab-45ee-4719-917f-0cb2bacb4915",
   "metadata": {
    "extensions": {
     "jupyter_dashboards": {
      "activeView": "grid_default",
      "views": {
       "grid_default": {
        "col": null,
        "height": 2,
        "hidden": true,
        "row": null,
        "width": 2
       }
      }
     }
    }
   },
   "outputs": [],
   "source": [
    "import markdown \n",
    "import ipywidgets as widgets\n",
    "import nowo1_base as no_ba\n",
    "import nowo1_sim_binary as no_bi\n",
    "import nowo1_gui_base as no_gui\n",
    "import nowo1_log_base as no_log"
   ]
  },
  {
   "cell_type": "markdown",
   "id": "valued-saskatchewan",
   "metadata": {
    "extensions": {
     "jupyter_dashboards": {
      "activeView": "grid_default",
      "views": {
       "grid_default": {
        "col": 0,
        "height": 2,
        "hidden": false,
        "row": 0,
        "width": 12
       }
      }
     }
    },
    "presto": {
     "id": "e13f5e37-bda7-4588-b06b-83f75f0bb857"
    },
    "tags": []
   },
   "source": [
    "### Bilanzsystem -Kristallisation- \n",
    "\n",
    "Hier stelle ich Informationen und ein kleines Berechnungstool zur Verfügung, um Standartaufgaben zur Kristallisation einfach zur Berechnen"
   ]
  },
  {
   "cell_type": "code",
   "execution_count": 2,
   "id": "a0497a7a-9f3a-4566-a880-48e123028b37",
   "metadata": {},
   "outputs": [],
   "source": [
    "html_info_node_1 = '''\n",
    "\n",
    "<p>Knoten_1: Solvat und Solvent -Eintritt-</p>\n",
    "<ul style = \"margin : 0; padding = 0\" >\n",
    "<li  style = \"margin : 0\" >C: Eintritt (Feed) eines Kristallisators, bestehend aus Solvat (Salz) und Solvent (Lösungsmittel). Der Eintritt wird hier als <b>konstant</b> angesehen</li>\n",
    "<li  style = \"margin : 0\" >A: Solvat gelöstes und / oder kristallines Solvat. Die Masse ist konstant, aber die Zusammensetzung zwischen kristallines und gelöstes Solvat kann sich ändern. Hängt von einer Temperaturänderung und / oder einer Mengenänderung des Solvents ab (Passieren der Löslichkeitsgrenze)</li>\n",
    "<li>B: Solventmasse reines Lösungsmittel. Wird hier als <b>konstant</b> angesehen.</li>\n",
    "</ul>\n",
    "'''\n",
    "\n",
    "html_info_node_2 = '''\n",
    "<p><b>Knoten_2: Solvat</b></p>\n",
    "<ul  style = \"margin : 0; padding = 0\" >\n",
    "<li>C: = Knoten_1.A</li>\n",
    "<li>A: Kristallines Solvat. Die Menge kann sich ändern. </li>\n",
    "<li>B: gelöstestes Solvat. Die Menge kann sich ändern.</li>\n",
    "</ul>\n",
    "'''\n",
    "\n",
    "html_info_node_3 = '''\n",
    "<p><b>Knoten_3: Solvat und Solvent auf der Löslichkeitskurve</b></p>\n",
    "<ul  style = \"margin : 0; padding = 0\" >\n",
    "<li>C: Solvat- und Solventmasse geättigt (Punkt auf Löslichkeitskurve).</li>\n",
    "<li>A: Solvent nach einer möglichen Massenänderung  </li>\n",
    "<li>B: = Knoten_2.B</li>\n",
    "</ul>\n",
    "'''\n",
    "\n",
    "html_info_node_4 = '''\n",
    "<p><b>Knoten_4: Solvent -Austritt-</b></p>\n",
    "<ul  style = \"margin : 0; padding = 0\" >\n",
    "<li>C: = Knoten_1.B</li>\n",
    "<li>A: Veränderte Solventmasse  </li>\n",
    "<li>B: = Abgeführte Solventmasse (Dampf) </li>\n",
    "</ul>\n",
    "'''\n",
    "\n",
    "html_info_node_5 = '''\n",
    "<p><b>Knoten_5: Solvat und Solvent -Austritt-</b></p>\n",
    "<ul style = \"margin : 0; padding = 0\" >\n",
    "<li>C: Solvent und Solvat (gelöstes und kristallines)</li>\n",
    "<li>A: = Knoten_3.C  </li>\n",
    "<li>B: = Knoten_2.A </li>\n",
    "</ul>\n",
    "'''\n",
    "infos_node_1 = widgets.HTML(html_info_node_1)\n",
    "infos_node_2 = widgets.HTML(html_info_node_2)\n",
    "infos_node_3 = widgets.HTML(html_info_node_3)\n",
    "infos_node_4 = widgets.HTML(html_info_node_4)\n",
    "infos_node_5 = widgets.HTML(html_info_node_5)\n"
   ]
  },
  {
   "cell_type": "code",
   "execution_count": 3,
   "id": "01100bca-6ffb-4019-8225-f8e9848849a7",
   "metadata": {},
   "outputs": [],
   "source": [
    "html_info_basenode = '''\n",
    "<p><b>Voraussetzungen zur Berechnung einer binären Bilanz</b><p>\n",
    "<ul   style = \"margin : 0; padding = 0\" >\n",
    "<li>Zwei Größen müssen vorgeben werden</li>\n",
    "<li>von den zwei Größen muss eine extensiv sein </li>\n",
    "<li>Volumenberechnung kann nur <br> bei gleichen Druck und Temperatur erfolgen</li>\n",
    "</ul>\n",
    "'''\n",
    "info_basenode = widgets.HTML(html_info_basenode)\n",
    "\n",
    "file = open(\"pics/Knotenmodell_Basis_Vers_1.svg\", \"rb\")\n",
    "basicnode_image = widgets.Image(\n",
    "    value = file.read(),\n",
    "    format='svg+xml',\n",
    "    width = '400px'\n",
    ")\n",
    "\n",
    "info_base = widgets.HBox([info_basenode, basicnode_image])"
   ]
  },
  {
   "cell_type": "code",
   "execution_count": 4,
   "id": "a38cffbc-42c9-4c39-823f-00f81c99fc8c",
   "metadata": {},
   "outputs": [],
   "source": [
    "tab_contents = ['Allgemein', 'Knoten 1', 'Knoten 2', 'Knoten 3', 'Knoten 4', 'Knoten 5']\n",
    "\n",
    "info_tab = widgets.Tab(children =[info_base, infos_node_1, infos_node_2, infos_node_3, infos_node_4, infos_node_5])\n",
    "i = 0\n",
    "for name in tab_contents:\n",
    "    info_tab.set_title(i, name)\n",
    "    i += 1\n"
   ]
  },
  {
   "cell_type": "code",
   "execution_count": 5,
   "id": "305dd061-c441-491c-8b92-8a5c54d739ad",
   "metadata": {},
   "outputs": [],
   "source": [
    "html_aufgabe_totesmeer = markdown.markdown(r'''\n",
    "Im Meerwasser des Toten Meer gibt es Mineralien in hochkonzentrierter Form, durchschnittlich ca. <b>28% (Massenbeladung)</b> Salz. \n",
    "Das Salz setzt sich zusammen aus\n",
    "Magnesiumchlorid, Calciumchlorid,  Natriumchlorid, Kaliumchlorid und Spurenelemente, bezogen auf die wasserfreien Salze. \n",
    "Totes Meer Salz, wird durch die ständige Verdunstung des Wassers, das Wasser hat eine min. Temperatur von <b>20°C</b>,  in sogenannten Salzgärten gewonnen. \n",
    "Die Salzgärten sind großflächig, künstlich angelegte Sammel Becken, indem das Wasser verdunstet und reines Salz zurück bleibt.\n",
    "\n",
    "#### Aufgabe:\n",
    "Wieviel Wasser des toten Meeres, bezogen auf $\\pmb{10.0\\ \\text{kg} \\cdot \\text{s}^{-1}}$  <b>Meerwasser </b>, muss man verdampfen, um <b>20% (Massenanteil)</b> des gesamten Salzes als kristallines Salz zu gewinnen?\n",
    "\n",
    "#### Vereinfachung:\n",
    "* Das gesamte Salz wird als $NaCl$ angenommen\n",
    "* Die Temperatur bleibt konstant\n",
    "* Die Löslichkeit (Beladung) von $NaCl$ bei 20°C beträgt $\\pmb{0.36\\ \\text{kg/kg}}$ (aus Diagramm)\n",
    "''')\n",
    "aufgabe_totesmeer = widgets.HTMLMath(html_aufgabe_totesmeer)                                 \n",
    "                                 "
   ]
  },
  {
   "cell_type": "code",
   "execution_count": 6,
   "id": "0b6c3312-1d1d-4b6c-8e8c-ea62057b8b3a",
   "metadata": {
    "extensions": {
     "jupyter_dashboards": {
      "activeView": "grid_default",
      "views": {
       "grid_default": {
        "col": 0,
        "height": 3,
        "hidden": false,
        "row": 2,
        "width": 12
       }
      }
     }
    },
    "tags": []
   },
   "outputs": [
    {
     "data": {
      "application/vnd.jupyter.widget-view+json": {
       "model_id": "061f5f76eb2745a3bffe5c2c24a1fad6",
       "version_major": 2,
       "version_minor": 0
      },
      "text/plain": [
       "Accordion(children=(HTMLMath(value='<p>Im Meerwasser des Toten Meer gibt es Mineralien in hochkonzentrierter F…"
      ]
     },
     "metadata": {},
     "output_type": "display_data"
    }
   ],
   "source": [
    "info_accordion = widgets.Accordion(children=[aufgabe_totesmeer, info_tab\n",
    "], selected_index=None)\n",
    "info_accordion.set_title(1, 'Informationen zu den Bilanzknoten')\n",
    "info_accordion.set_title(0, 'Übungsaufgabe')\n",
    "info_accordion"
   ]
  },
  {
   "cell_type": "code",
   "execution_count": 27,
   "id": "a5792526-053c-448a-9e57-7dc25bd86a6f",
   "metadata": {},
   "outputs": [],
   "source": [
    "file = open(\"pics/Knotenmodell_Kristallisation_Vers_1.svg\", \"rb\")\n",
    "\n",
    "image_2 = file.read()\n",
    "crystal_image = widgets.Image(\n",
    "    value=image_2,\n",
    "    format='svg+xml',\n",
    "    width = '600px'\n",
    ")"
   ]
  },
  {
   "cell_type": "code",
   "execution_count": 28,
   "id": "eec838fd-a5a9-49c8-a873-07c0e3653622",
   "metadata": {
    "extensions": {
     "jupyter_dashboards": {
      "activeView": "grid_default",
      "views": {
       "grid_default": {
        "col": null,
        "height": 2,
        "hidden": true,
        "row": null,
        "width": 2
       }
      }
     }
    }
   },
   "outputs": [],
   "source": [
    "bilanz_1 = no_bi.binary_node('bilanz_1', init_methode = 'gui') # Umgebungs\n",
    "step = no_ba.step_single('step')\n",
    "gui_data = no_gui.gui_ipysheet('gui_data')\n",
    "log = no_log.log_sheet('log')"
   ]
  },
  {
   "cell_type": "code",
   "execution_count": 29,
   "id": "7209ba84-1e31-4d7e-b205-eb3b822fba13",
   "metadata": {
    "extensions": {
     "jupyter_dashboards": {
      "activeView": "grid_default",
      "views": {
       "grid_default": {
        "col": null,
        "height": 2,
        "hidden": true,
        "row": null,
        "width": 2
       }
      }
     }
    }
   },
   "outputs": [],
   "source": [
    "# stepper for options initialisieren\n",
    "step.Init(work_objs=[bilanz_1.Calc_C])"
   ]
  },
  {
   "cell_type": "code",
   "execution_count": 30,
   "id": "78564e31-2e23-4fd0-879e-e5fec1cf5c8e",
   "metadata": {
    "extensions": {
     "jupyter_dashboards": {
      "activeView": "grid_default",
      "views": {
       "grid_default": {
        "col": null,
        "height": 2,
        "hidden": true,
        "row": null,
        "width": 2
       }
      }
     }
    }
   },
   "outputs": [],
   "source": [
    "bilanz_1.Option(options = {\n",
    "    'name' : {'alias' : 'Knoten_X', 'visible' : True}} )\n",
    "bilanz_1.Gate_A.general.Option(alias_name = 'size')\n",
    "bilanz_1.Gate_A.Option(alias_name = 'A')\n",
    "bilanz_1.Gate_B.general.Option(alias_name = 'size')\n",
    "bilanz_1.Gate_B.Option(alias_name = 'B')\n",
    "bilanz_1.Gate_C.general.Option(alias_name = 'size')\n",
    "bilanz_1.Gate_C.Option(alias_name = 'C')\n",
    "bilanz_1.A_ratio.Option(alias_name = 'Beladung A/B')\n",
    "bilanz_1.B_ratio.Option(alias_name = 'Beladung B/A')\n",
    "bilanz_1.A_portion.Option(alias_name = 'Anteil A/(A+B)')\n",
    "bilanz_1.B_portion.Option(alias_name = 'Anteil B/(A+B)')"
   ]
  },
  {
   "cell_type": "code",
   "execution_count": 31,
   "id": "5bc30890-5c60-4d96-8138-fe9b7c0682d1",
   "metadata": {
    "extensions": {
     "jupyter_dashboards": {
      "activeView": "grid_default",
      "views": {
       "grid_default": {
        "col": null,
        "height": 2,
        "hidden": true,
        "row": null,
        "width": 2
       }
      }
     }
    }
   },
   "outputs": [],
   "source": [
    "#Logger zum Schluss initialisieren\n",
    "log.Init(Values=[bilanz_1.log_all], Gui_For_Data = gui_data)"
   ]
  },
  {
   "cell_type": "code",
   "execution_count": 32,
   "id": "d95ff8cb-65bd-4e21-a386-6f83531970df",
   "metadata": {},
   "outputs": [],
   "source": [
    "Col_1_2 = widgets.VBox([ gui_data.Box(), log.Box(), step.Box()])\n",
    "Row_1 = widgets.HBox([bilanz_1.Box(), Col_1_2, crystal_image])\n",
    "calc = widgets.VBox([Row_1])"
   ]
  },
  {
   "cell_type": "code",
   "execution_count": 33,
   "id": "48480dd5-d70b-44c6-9d04-c762d28d4125",
   "metadata": {
    "extensions": {
     "jupyter_dashboards": {
      "activeView": "grid_default",
      "views": {
       "grid_default": {
        "col": 0,
        "height": 3,
        "hidden": false,
        "row": 2,
        "width": 12
       }
      }
     }
    },
    "tags": []
   },
   "outputs": [
    {
     "data": {
      "application/vnd.jupyter.widget-view+json": {
       "model_id": "56ed96521c26475cb2a132af1bbd1328",
       "version_major": 2,
       "version_minor": 0
      },
      "text/plain": [
       "Accordion(children=(VBox(children=(HBox(children=(VBox(children=(HBox(children=(HTML(value='extensive Größe:',…"
      ]
     },
     "metadata": {},
     "output_type": "display_data"
    }
   ],
   "source": [
    "calc_accordionn = widgets.Accordion(children=[calc], selected_index=None)\n",
    "calc_accordionn.set_title(0, 'Interaktive Berechnung')\n",
    "\n",
    "calc_accordionn"
   ]
  },
  {
   "cell_type": "code",
   "execution_count": null,
   "id": "29ba8189-2ca6-4a13-b0be-3d42634cac43",
   "metadata": {},
   "outputs": [],
   "source": []
  }
 ],
 "metadata": {
  "extensions": {
   "jupyter_dashboards": {
    "activeView": "grid_default",
    "version": 1,
    "views": {
     "grid_default": {
      "cellMargin": 2,
      "defaultCellHeight": 50,
      "maxColumns": 12,
      "name": "grid",
      "type": "grid"
     }
    }
   }
  },
  "kernelspec": {
   "display_name": "Python 3 (ipykernel)",
   "language": "python",
   "name": "python3"
  },
  "language_info": {
   "codemirror_mode": {
    "name": "ipython",
    "version": 3
   },
   "file_extension": ".py",
   "mimetype": "text/x-python",
   "name": "python",
   "nbconvert_exporter": "python",
   "pygments_lexer": "ipython3",
   "version": "3.9.7"
  },
  "presto": {
   "id": "15654236-4ba8-4933-8bde-9e7e68b7138c"
  }
 },
 "nbformat": 4,
 "nbformat_minor": 5
}
